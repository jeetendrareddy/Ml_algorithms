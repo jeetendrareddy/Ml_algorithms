{
 "cells": [
  {
   "cell_type": "code",
   "execution_count": 20,
   "metadata": {},
   "outputs": [],
   "source": [
    "import pandas as pd\n",
    "import numpy as np\n",
    "from sklearn.model_selection import train_test_split\n",
    "import matplotlib.pyplot as plt\n",
    "from matplotlib.colors import ListedColormap\n",
    "from sklearn import neighbors, datasets\n",
    "from sklearn.neighbors import KNeighborsClassifier"
   ]
  },
  {
   "cell_type": "code",
   "execution_count": null,
   "metadata": {},
   "outputs": [],
   "source": []
  },
  {
   "cell_type": "code",
   "execution_count": 2,
   "metadata": {},
   "outputs": [
    {
     "data": {
      "text/html": [
       "<div>\n",
       "<style scoped>\n",
       "    .dataframe tbody tr th:only-of-type {\n",
       "        vertical-align: middle;\n",
       "    }\n",
       "\n",
       "    .dataframe tbody tr th {\n",
       "        vertical-align: top;\n",
       "    }\n",
       "\n",
       "    .dataframe thead th {\n",
       "        text-align: right;\n",
       "    }\n",
       "</style>\n",
       "<table border=\"1\" class=\"dataframe\">\n",
       "  <thead>\n",
       "    <tr style=\"text-align: right;\">\n",
       "      <th></th>\n",
       "      <th>0</th>\n",
       "      <th>1</th>\n",
       "      <th>2</th>\n",
       "      <th>3</th>\n",
       "      <th>4</th>\n",
       "      <th>5</th>\n",
       "    </tr>\n",
       "  </thead>\n",
       "  <tbody>\n",
       "    <tr>\n",
       "      <th>0</th>\n",
       "      <td>1</td>\n",
       "      <td>5.1</td>\n",
       "      <td>3.5</td>\n",
       "      <td>1.4</td>\n",
       "      <td>0.2</td>\n",
       "      <td>Iris-setosa</td>\n",
       "    </tr>\n",
       "    <tr>\n",
       "      <th>1</th>\n",
       "      <td>2</td>\n",
       "      <td>4.9</td>\n",
       "      <td>3.0</td>\n",
       "      <td>1.4</td>\n",
       "      <td>0.2</td>\n",
       "      <td>Iris-setosa</td>\n",
       "    </tr>\n",
       "    <tr>\n",
       "      <th>2</th>\n",
       "      <td>3</td>\n",
       "      <td>4.7</td>\n",
       "      <td>3.2</td>\n",
       "      <td>1.3</td>\n",
       "      <td>0.2</td>\n",
       "      <td>Iris-setosa</td>\n",
       "    </tr>\n",
       "    <tr>\n",
       "      <th>3</th>\n",
       "      <td>4</td>\n",
       "      <td>4.6</td>\n",
       "      <td>3.1</td>\n",
       "      <td>1.5</td>\n",
       "      <td>0.2</td>\n",
       "      <td>Iris-setosa</td>\n",
       "    </tr>\n",
       "    <tr>\n",
       "      <th>4</th>\n",
       "      <td>5</td>\n",
       "      <td>5.0</td>\n",
       "      <td>3.6</td>\n",
       "      <td>1.4</td>\n",
       "      <td>0.2</td>\n",
       "      <td>Iris-setosa</td>\n",
       "    </tr>\n",
       "  </tbody>\n",
       "</table>\n",
       "</div>"
      ],
      "text/plain": [
       "   0    1    2    3    4            5\n",
       "0  1  5.1  3.5  1.4  0.2  Iris-setosa\n",
       "1  2  4.9  3.0  1.4  0.2  Iris-setosa\n",
       "2  3  4.7  3.2  1.3  0.2  Iris-setosa\n",
       "3  4  4.6  3.1  1.5  0.2  Iris-setosa\n",
       "4  5  5.0  3.6  1.4  0.2  Iris-setosa"
      ]
     },
     "execution_count": 2,
     "metadata": {},
     "output_type": "execute_result"
    }
   ],
   "source": [
    "#Loading File\n",
    "df = pd.read_csv('Iris.csv',header = None)\n",
    "df.head()"
   ]
  },
  {
   "cell_type": "code",
   "execution_count": 3,
   "metadata": {},
   "outputs": [
    {
     "name": "stdout",
     "output_type": "stream",
     "text": [
      "1 , 5.1 , 3.5 , 1.4 , 0.2 , Iris-setosa\n",
      "2 , 4.9 , 3.0 , 1.4 , 0.2 , Iris-setosa\n",
      "3 , 4.7 , 3.2 , 1.3 , 0.2 , Iris-setosa\n",
      "4 , 4.6 , 3.1 , 1.5 , 0.2 , Iris-setosa\n",
      "5 , 5.0 , 3.6 , 1.4 , 0.2 , Iris-setosa\n",
      "6 , 5.4 , 3.9 , 1.7 , 0.4 , Iris-setosa\n",
      "7 , 4.6 , 3.4 , 1.4 , 0.3 , Iris-setosa\n",
      "8 , 5.0 , 3.4 , 1.5 , 0.2 , Iris-setosa\n",
      "9 , 4.4 , 2.9 , 1.4 , 0.2 , Iris-setosa\n",
      "10 , 4.9 , 3.1 , 1.5 , 0.1 , Iris-setosa\n",
      "11 , 5.4 , 3.7 , 1.5 , 0.2 , Iris-setosa\n",
      "12 , 4.8 , 3.4 , 1.6 , 0.2 , Iris-setosa\n",
      "13 , 4.8 , 3.0 , 1.4 , 0.1 , Iris-setosa\n",
      "14 , 4.3 , 3.0 , 1.1 , 0.1 , Iris-setosa\n",
      "15 , 5.8 , 4.0 , 1.2 , 0.2 , Iris-setosa\n",
      "16 , 5.7 , 4.4 , 1.5 , 0.4 , Iris-setosa\n",
      "17 , 5.4 , 3.9 , 1.3 , 0.4 , Iris-setosa\n",
      "18 , 5.1 , 3.5 , 1.4 , 0.3 , Iris-setosa\n",
      "19 , 5.7 , 3.8 , 1.7 , 0.3 , Iris-setosa\n",
      "20 , 5.1 , 3.8 , 1.5 , 0.3 , Iris-setosa\n",
      "21 , 5.4 , 3.4 , 1.7 , 0.2 , Iris-setosa\n",
      "22 , 5.1 , 3.7 , 1.5 , 0.4 , Iris-setosa\n",
      "23 , 4.6 , 3.6 , 1.0 , 0.2 , Iris-setosa\n",
      "24 , 5.1 , 3.3 , 1.7 , 0.5 , Iris-setosa\n",
      "25 , 4.8 , 3.4 , 1.9 , 0.2 , Iris-setosa\n",
      "26 , 5.0 , 3.0 , 1.6 , 0.2 , Iris-setosa\n",
      "27 , 5.0 , 3.4 , 1.6 , 0.4 , Iris-setosa\n",
      "28 , 5.2 , 3.5 , 1.5 , 0.2 , Iris-setosa\n",
      "29 , 5.2 , 3.4 , 1.4 , 0.2 , Iris-setosa\n",
      "30 , 4.7 , 3.2 , 1.6 , 0.2 , Iris-setosa\n",
      "31 , 4.8 , 3.1 , 1.6 , 0.2 , Iris-setosa\n",
      "32 , 5.4 , 3.4 , 1.5 , 0.4 , Iris-setosa\n",
      "33 , 5.2 , 4.1 , 1.5 , 0.1 , Iris-setosa\n",
      "34 , 5.5 , 4.2 , 1.4 , 0.2 , Iris-setosa\n",
      "35 , 4.9 , 3.1 , 1.5 , 0.1 , Iris-setosa\n",
      "36 , 5.0 , 3.2 , 1.2 , 0.2 , Iris-setosa\n",
      "37 , 5.5 , 3.5 , 1.3 , 0.2 , Iris-setosa\n",
      "38 , 4.9 , 3.1 , 1.5 , 0.1 , Iris-setosa\n",
      "39 , 4.4 , 3.0 , 1.3 , 0.2 , Iris-setosa\n",
      "40 , 5.1 , 3.4 , 1.5 , 0.2 , Iris-setosa\n",
      "41 , 5.0 , 3.5 , 1.3 , 0.3 , Iris-setosa\n",
      "42 , 4.5 , 2.3 , 1.3 , 0.3 , Iris-setosa\n",
      "43 , 4.4 , 3.2 , 1.3 , 0.2 , Iris-setosa\n",
      "44 , 5.0 , 3.5 , 1.6 , 0.6 , Iris-setosa\n",
      "45 , 5.1 , 3.8 , 1.9 , 0.4 , Iris-setosa\n",
      "46 , 4.8 , 3.0 , 1.4 , 0.3 , Iris-setosa\n",
      "47 , 5.1 , 3.8 , 1.6 , 0.2 , Iris-setosa\n",
      "48 , 4.6 , 3.2 , 1.4 , 0.2 , Iris-setosa\n",
      "49 , 5.3 , 3.7 , 1.5 , 0.2 , Iris-setosa\n",
      "50 , 5.0 , 3.3 , 1.4 , 0.2 , Iris-setosa\n",
      "51 , 7.0 , 3.2 , 4.7 , 1.4 , Iris-versicolor\n",
      "52 , 6.4 , 3.2 , 4.5 , 1.5 , Iris-versicolor\n",
      "53 , 6.9 , 3.1 , 4.9 , 1.5 , Iris-versicolor\n",
      "54 , 5.5 , 2.3 , 4.0 , 1.3 , Iris-versicolor\n",
      "55 , 6.5 , 2.8 , 4.6 , 1.5 , Iris-versicolor\n",
      "56 , 5.7 , 2.8 , 4.5 , 1.3 , Iris-versicolor\n",
      "57 , 6.3 , 3.3 , 4.7 , 1.6 , Iris-versicolor\n",
      "58 , 4.9 , 2.4 , 3.3 , 1.0 , Iris-versicolor\n",
      "59 , 6.6 , 2.9 , 4.6 , 1.3 , Iris-versicolor\n",
      "60 , 5.2 , 2.7 , 3.9 , 1.4 , Iris-versicolor\n",
      "61 , 5.0 , 2.0 , 3.5 , 1.0 , Iris-versicolor\n",
      "62 , 5.9 , 3.0 , 4.2 , 1.5 , Iris-versicolor\n",
      "63 , 6.0 , 2.2 , 4.0 , 1.0 , Iris-versicolor\n",
      "64 , 6.1 , 2.9 , 4.7 , 1.4 , Iris-versicolor\n",
      "65 , 5.6 , 2.9 , 3.6 , 1.3 , Iris-versicolor\n",
      "66 , 6.7 , 3.1 , 4.4 , 1.4 , Iris-versicolor\n",
      "67 , 5.6 , 3.0 , 4.5 , 1.5 , Iris-versicolor\n",
      "68 , 5.8 , 2.7 , 4.1 , 1.0 , Iris-versicolor\n",
      "69 , 6.2 , 2.2 , 4.5 , 1.5 , Iris-versicolor\n",
      "70 , 5.6 , 2.5 , 3.9 , 1.1 , Iris-versicolor\n",
      "71 , 5.9 , 3.2 , 4.8 , 1.8 , Iris-versicolor\n",
      "72 , 6.1 , 2.8 , 4.0 , 1.3 , Iris-versicolor\n",
      "73 , 6.3 , 2.5 , 4.9 , 1.5 , Iris-versicolor\n",
      "74 , 6.1 , 2.8 , 4.7 , 1.2 , Iris-versicolor\n",
      "75 , 6.4 , 2.9 , 4.3 , 1.3 , Iris-versicolor\n",
      "76 , 6.6 , 3.0 , 4.4 , 1.4 , Iris-versicolor\n",
      "77 , 6.8 , 2.8 , 4.8 , 1.4 , Iris-versicolor\n",
      "78 , 6.7 , 3.0 , 5.0 , 1.7 , Iris-versicolor\n",
      "79 , 6.0 , 2.9 , 4.5 , 1.5 , Iris-versicolor\n",
      "80 , 5.7 , 2.6 , 3.5 , 1.0 , Iris-versicolor\n",
      "81 , 5.5 , 2.4 , 3.8 , 1.1 , Iris-versicolor\n",
      "82 , 5.5 , 2.4 , 3.7 , 1.0 , Iris-versicolor\n",
      "83 , 5.8 , 2.7 , 3.9 , 1.2 , Iris-versicolor\n",
      "84 , 6.0 , 2.7 , 5.1 , 1.6 , Iris-versicolor\n",
      "85 , 5.4 , 3.0 , 4.5 , 1.5 , Iris-versicolor\n",
      "86 , 6.0 , 3.4 , 4.5 , 1.6 , Iris-versicolor\n",
      "87 , 6.7 , 3.1 , 4.7 , 1.5 , Iris-versicolor\n",
      "88 , 6.3 , 2.3 , 4.4 , 1.3 , Iris-versicolor\n",
      "89 , 5.6 , 3.0 , 4.1 , 1.3 , Iris-versicolor\n",
      "90 , 5.5 , 2.5 , 4.0 , 1.3 , Iris-versicolor\n",
      "91 , 5.5 , 2.6 , 4.4 , 1.2 , Iris-versicolor\n",
      "92 , 6.1 , 3.0 , 4.6 , 1.4 , Iris-versicolor\n",
      "93 , 5.8 , 2.6 , 4.0 , 1.2 , Iris-versicolor\n",
      "94 , 5.0 , 2.3 , 3.3 , 1.0 , Iris-versicolor\n",
      "95 , 5.6 , 2.7 , 4.2 , 1.3 , Iris-versicolor\n",
      "96 , 5.7 , 3.0 , 4.2 , 1.2 , Iris-versicolor\n",
      "97 , 5.7 , 2.9 , 4.2 , 1.3 , Iris-versicolor\n",
      "98 , 6.2 , 2.9 , 4.3 , 1.3 , Iris-versicolor\n",
      "99 , 5.1 , 2.5 , 3.0 , 1.1 , Iris-versicolor\n",
      "100 , 5.7 , 2.8 , 4.1 , 1.3 , Iris-versicolor\n",
      "101 , 6.3 , 3.3 , 6.0 , 2.5 , Iris-virginica\n",
      "102 , 5.8 , 2.7 , 5.1 , 1.9 , Iris-virginica\n",
      "103 , 7.1 , 3.0 , 5.9 , 2.1 , Iris-virginica\n",
      "104 , 6.3 , 2.9 , 5.6 , 1.8 , Iris-virginica\n",
      "105 , 6.5 , 3.0 , 5.8 , 2.2 , Iris-virginica\n",
      "106 , 7.6 , 3.0 , 6.6 , 2.1 , Iris-virginica\n",
      "107 , 4.9 , 2.5 , 4.5 , 1.7 , Iris-virginica\n",
      "108 , 7.3 , 2.9 , 6.3 , 1.8 , Iris-virginica\n",
      "109 , 6.7 , 2.5 , 5.8 , 1.8 , Iris-virginica\n",
      "110 , 7.2 , 3.6 , 6.1 , 2.5 , Iris-virginica\n",
      "111 , 6.5 , 3.2 , 5.1 , 2.0 , Iris-virginica\n",
      "112 , 6.4 , 2.7 , 5.3 , 1.9 , Iris-virginica\n",
      "113 , 6.8 , 3.0 , 5.5 , 2.1 , Iris-virginica\n",
      "114 , 5.7 , 2.5 , 5.0 , 2.0 , Iris-virginica\n",
      "115 , 5.8 , 2.8 , 5.1 , 2.4 , Iris-virginica\n",
      "116 , 6.4 , 3.2 , 5.3 , 2.3 , Iris-virginica\n",
      "117 , 6.5 , 3.0 , 5.5 , 1.8 , Iris-virginica\n",
      "118 , 7.7 , 3.8 , 6.7 , 2.2 , Iris-virginica\n",
      "119 , 7.7 , 2.6 , 6.9 , 2.3 , Iris-virginica\n",
      "120 , 6.0 , 2.2 , 5.0 , 1.5 , Iris-virginica\n",
      "121 , 6.9 , 3.2 , 5.7 , 2.3 , Iris-virginica\n",
      "122 , 5.6 , 2.8 , 4.9 , 2.0 , Iris-virginica\n",
      "123 , 7.7 , 2.8 , 6.7 , 2.0 , Iris-virginica\n",
      "124 , 6.3 , 2.7 , 4.9 , 1.8 , Iris-virginica\n",
      "125 , 6.7 , 3.3 , 5.7 , 2.1 , Iris-virginica\n",
      "126 , 7.2 , 3.2 , 6.0 , 1.8 , Iris-virginica\n",
      "127 , 6.2 , 2.8 , 4.8 , 1.8 , Iris-virginica\n",
      "128 , 6.1 , 3.0 , 4.9 , 1.8 , Iris-virginica\n",
      "129 , 6.4 , 2.8 , 5.6 , 2.1 , Iris-virginica\n",
      "130 , 7.2 , 3.0 , 5.8 , 1.6 , Iris-virginica\n",
      "131 , 7.4 , 2.8 , 6.1 , 1.9 , Iris-virginica\n",
      "132 , 7.9 , 3.8 , 6.4 , 2.0 , Iris-virginica\n",
      "133 , 6.4 , 2.8 , 5.6 , 2.2 , Iris-virginica\n",
      "134 , 6.3 , 2.8 , 5.1 , 1.5 , Iris-virginica\n",
      "135 , 6.1 , 2.6 , 5.6 , 1.4 , Iris-virginica\n",
      "136 , 7.7 , 3.0 , 6.1 , 2.3 , Iris-virginica\n",
      "137 , 6.3 , 3.4 , 5.6 , 2.4 , Iris-virginica\n",
      "138 , 6.4 , 3.1 , 5.5 , 1.8 , Iris-virginica\n",
      "139 , 6.0 , 3.0 , 4.8 , 1.8 , Iris-virginica\n",
      "140 , 6.9 , 3.1 , 5.4 , 2.1 , Iris-virginica\n",
      "141 , 6.7 , 3.1 , 5.6 , 2.4 , Iris-virginica\n",
      "142 , 6.9 , 3.1 , 5.1 , 2.3 , Iris-virginica\n",
      "143 , 5.8 , 2.7 , 5.1 , 1.9 , Iris-virginica\n",
      "144 , 6.8 , 3.2 , 5.9 , 2.3 , Iris-virginica\n",
      "145 , 6.7 , 3.3 , 5.7 , 2.5 , Iris-virginica\n",
      "146 , 6.7 , 3.0 , 5.2 , 2.3 , Iris-virginica\n",
      "147 , 6.3 , 2.5 , 5.0 , 1.9 , Iris-virginica\n",
      "148 , 6.5 , 3.0 , 5.2 , 2.0 , Iris-virginica\n",
      "149 , 6.2 , 3.4 , 5.4 , 2.3 , Iris-virginica\n",
      "150 , 5.9 , 3.0 , 5.1 , 1.8 , Iris-virginica\n"
     ]
    }
   ],
   "source": [
    "import csv\n",
    "with open('Iris.csv') as csvfile:\n",
    "    lines = csv.reader(csvfile)\n",
    "    for row in lines:\n",
    "        print(' , '.join(row))"
   ]
  },
  {
   "cell_type": "code",
   "execution_count": 4,
   "metadata": {},
   "outputs": [],
   "source": [
    "import csv\n",
    "import random\n",
    "def handleDataset(filename, split, trainSets = [], testSets = []):\n",
    "    with open(filename, 'r') as csvfile:\n",
    "        lines = csv.reader(csvfile)\n",
    "        dataset = list(lines)\n",
    "        for x in range(len(dataset) - 1):\n",
    "                for y in range(4):\n",
    "                    dataset[x][y] = float(dataset[x][y])\n",
    "                    if random.random() < split:\n",
    "                        trainSets.append(dataset[x])\n",
    "                    else:\n",
    "                       testSets.append(dataset[x])"
   ]
  },
  {
   "cell_type": "code",
   "execution_count": 5,
   "metadata": {},
   "outputs": [
    {
     "name": "stdout",
     "output_type": "stream",
     "text": [
      "Train Set for KNN: 383\n",
      "Test set for KNN: 213\n"
     ]
    }
   ],
   "source": [
    "trainSets =[]\n",
    "testSets=[]\n",
    "handleDataset('Iris.csv', 0.66, trainSets, testSets)\n",
    "print ('Train Set for KNN: ' + repr(len(trainSets)))\n",
    "print ('Test set for KNN: ' + repr(len(testSets)))"
   ]
  },
  {
   "cell_type": "code",
   "execution_count": 7,
   "metadata": {},
   "outputs": [],
   "source": [
    "import math \n",
    "def euclidean_distance(insta_one, insta_two, length):\n",
    "        distance = 0\n",
    "        for x in range(length):\n",
    "             distance += pow((insta_one[x] - insta_two[x]), 2)\n",
    "        return math.sqrt(distance)"
   ]
  },
  {
   "cell_type": "code",
   "execution_count": 8,
   "metadata": {},
   "outputs": [
    {
     "name": "stdout",
     "output_type": "stream",
     "text": [
      "The distance between two points is: 1.7320508075688772\n"
     ]
    }
   ],
   "source": [
    "data_one = [5, 5, 5, 'a']\n",
    "data_two = [6, 6, 6, 'b']\n",
    "distance = euclidean_distance(data_one, data_two, 3)\n",
    "print ('The distance between two points is: ' + repr(distance))"
   ]
  },
  {
   "cell_type": "code",
   "execution_count": 9,
   "metadata": {},
   "outputs": [],
   "source": [
    "import operator\n",
    "def getKNeighbors(trainSet, testInstance, K):\n",
    "    distance = []\n",
    "    length = len(testInstance) - 1\n",
    "    for x in range(len(trainSet)):\n",
    "        dist = euclidean_distance(testInstance, trainSet[x], length)\n",
    "        distance.append((trainSet[x], dist))\n",
    "        distance.sort(key = operator.itemgetter(1))\n",
    "        neighbors = []\n",
    "        for x in range(k):\n",
    "            neighbors.append(distance[x][0])\n",
    "        return neighbors"
   ]
  },
  {
   "cell_type": "code",
   "execution_count": 11,
   "metadata": {},
   "outputs": [
    {
     "name": "stdout",
     "output_type": "stream",
     "text": [
      "The nearest neighbors is: [[5, 5, 5, 'a']]\n"
     ]
    }
   ],
   "source": [
    "trainSet = [[5, 5, 5, 'a'], [6, 6, 6, 'b']]\n",
    "testInstance = [7, 7, 7]\n",
    "k = 1\n",
    "neighbors = getKNeighbors(trainSet, testInstance, 1)\n",
    "print('The nearest neighbors is:', neighbors)"
   ]
  },
  {
   "cell_type": "code",
   "execution_count": 12,
   "metadata": {},
   "outputs": [],
   "source": [
    "import operator\n",
    "def getResponse(neighbors):\n",
    "    vote_class = {}\n",
    "    for x in range(len(neighbors)):\n",
    "        response = neighbors[x][-1]\n",
    "    if response in vote_class:\n",
    "        vote_class[response] += 1\n",
    "    else:\n",
    "        vote_class[response] = 1\n",
    "    sortedVotes = sorted(vote_class.items(), key=operator.itemgetter(1), reverse=True)\n",
    "    return sortedVotes[0][0]"
   ]
  },
  {
   "cell_type": "code",
   "execution_count": 13,
   "metadata": {},
   "outputs": [
    {
     "name": "stdout",
     "output_type": "stream",
     "text": [
      "Majority Vote Response:  b\n"
     ]
    }
   ],
   "source": [
    "neighbors = [[5,5,5,'a'], [6,6,6,'a'], [7,7,7,'b']]\n",
    "print('Majority Vote Response: ',getResponse(neighbors))"
   ]
  },
  {
   "cell_type": "code",
   "execution_count": 14,
   "metadata": {},
   "outputs": [],
   "source": [
    "def getAccuracy(testSet, predictions):\n",
    "    correct = 0\n",
    "    for x in range(len(testSet)):\n",
    "        if testSet[x][-1] is predictions[x]:\n",
    "            correct += 1\n",
    "    return (correct/float(len(testSet))) * 100.0"
   ]
  },
  {
   "cell_type": "code",
   "execution_count": 35,
   "metadata": {},
   "outputs": [
    {
     "name": "stdout",
     "output_type": "stream",
     "text": [
      "Accuracy of predictions out of predictions made 66.67 %\n"
     ]
    }
   ],
   "source": [
    "testSet = [[5,5,5,'a'], [6,6,6,'a'], [7,7,7,'b']]\n",
    "predictions = ['a', 'a', 'a']\n",
    "accuracy = getAccuracy(testSet, predictions)\n",
    "print('Accuracy of predictions out of predictions made', round((accuracy) , 2 ) , '%')"
   ]
  },
  {
   "cell_type": "code",
   "execution_count": 15,
   "metadata": {},
   "outputs": [],
   "source": [
    "#The below code is for decision boundary for KNN"
   ]
  },
  {
   "cell_type": "code",
   "execution_count": null,
   "metadata": {},
   "outputs": [],
   "source": []
  },
  {
   "cell_type": "code",
   "execution_count": 15,
   "metadata": {},
   "outputs": [
    {
     "data": {
      "text/plain": [
       "array([[5.1, 3.5, 1.4, 0.2],\n",
       "       [4.9, 3. , 1.4, 0.2],\n",
       "       [4.7, 3.2, 1.3, 0.2],\n",
       "       [4.6, 3.1, 1.5, 0.2],\n",
       "       [5. , 3.6, 1.4, 0.2],\n",
       "       [5.4, 3.9, 1.7, 0.4],\n",
       "       [4.6, 3.4, 1.4, 0.3],\n",
       "       [5. , 3.4, 1.5, 0.2],\n",
       "       [4.4, 2.9, 1.4, 0.2],\n",
       "       [4.9, 3.1, 1.5, 0.1],\n",
       "       [5.4, 3.7, 1.5, 0.2],\n",
       "       [4.8, 3.4, 1.6, 0.2],\n",
       "       [4.8, 3. , 1.4, 0.1],\n",
       "       [4.3, 3. , 1.1, 0.1],\n",
       "       [5.8, 4. , 1.2, 0.2],\n",
       "       [5.7, 4.4, 1.5, 0.4],\n",
       "       [5.4, 3.9, 1.3, 0.4],\n",
       "       [5.1, 3.5, 1.4, 0.3],\n",
       "       [5.7, 3.8, 1.7, 0.3],\n",
       "       [5.1, 3.8, 1.5, 0.3],\n",
       "       [5.4, 3.4, 1.7, 0.2],\n",
       "       [5.1, 3.7, 1.5, 0.4],\n",
       "       [4.6, 3.6, 1. , 0.2],\n",
       "       [5.1, 3.3, 1.7, 0.5],\n",
       "       [4.8, 3.4, 1.9, 0.2],\n",
       "       [5. , 3. , 1.6, 0.2],\n",
       "       [5. , 3.4, 1.6, 0.4],\n",
       "       [5.2, 3.5, 1.5, 0.2],\n",
       "       [5.2, 3.4, 1.4, 0.2],\n",
       "       [4.7, 3.2, 1.6, 0.2],\n",
       "       [4.8, 3.1, 1.6, 0.2],\n",
       "       [5.4, 3.4, 1.5, 0.4],\n",
       "       [5.2, 4.1, 1.5, 0.1],\n",
       "       [5.5, 4.2, 1.4, 0.2],\n",
       "       [4.9, 3.1, 1.5, 0.2],\n",
       "       [5. , 3.2, 1.2, 0.2],\n",
       "       [5.5, 3.5, 1.3, 0.2],\n",
       "       [4.9, 3.6, 1.4, 0.1],\n",
       "       [4.4, 3. , 1.3, 0.2],\n",
       "       [5.1, 3.4, 1.5, 0.2],\n",
       "       [5. , 3.5, 1.3, 0.3],\n",
       "       [4.5, 2.3, 1.3, 0.3],\n",
       "       [4.4, 3.2, 1.3, 0.2],\n",
       "       [5. , 3.5, 1.6, 0.6],\n",
       "       [5.1, 3.8, 1.9, 0.4],\n",
       "       [4.8, 3. , 1.4, 0.3],\n",
       "       [5.1, 3.8, 1.6, 0.2],\n",
       "       [4.6, 3.2, 1.4, 0.2],\n",
       "       [5.3, 3.7, 1.5, 0.2],\n",
       "       [5. , 3.3, 1.4, 0.2],\n",
       "       [7. , 3.2, 4.7, 1.4],\n",
       "       [6.4, 3.2, 4.5, 1.5],\n",
       "       [6.9, 3.1, 4.9, 1.5],\n",
       "       [5.5, 2.3, 4. , 1.3],\n",
       "       [6.5, 2.8, 4.6, 1.5],\n",
       "       [5.7, 2.8, 4.5, 1.3],\n",
       "       [6.3, 3.3, 4.7, 1.6],\n",
       "       [4.9, 2.4, 3.3, 1. ],\n",
       "       [6.6, 2.9, 4.6, 1.3],\n",
       "       [5.2, 2.7, 3.9, 1.4],\n",
       "       [5. , 2. , 3.5, 1. ],\n",
       "       [5.9, 3. , 4.2, 1.5],\n",
       "       [6. , 2.2, 4. , 1. ],\n",
       "       [6.1, 2.9, 4.7, 1.4],\n",
       "       [5.6, 2.9, 3.6, 1.3],\n",
       "       [6.7, 3.1, 4.4, 1.4],\n",
       "       [5.6, 3. , 4.5, 1.5],\n",
       "       [5.8, 2.7, 4.1, 1. ],\n",
       "       [6.2, 2.2, 4.5, 1.5],\n",
       "       [5.6, 2.5, 3.9, 1.1],\n",
       "       [5.9, 3.2, 4.8, 1.8],\n",
       "       [6.1, 2.8, 4. , 1.3],\n",
       "       [6.3, 2.5, 4.9, 1.5],\n",
       "       [6.1, 2.8, 4.7, 1.2],\n",
       "       [6.4, 2.9, 4.3, 1.3],\n",
       "       [6.6, 3. , 4.4, 1.4],\n",
       "       [6.8, 2.8, 4.8, 1.4],\n",
       "       [6.7, 3. , 5. , 1.7],\n",
       "       [6. , 2.9, 4.5, 1.5],\n",
       "       [5.7, 2.6, 3.5, 1. ],\n",
       "       [5.5, 2.4, 3.8, 1.1],\n",
       "       [5.5, 2.4, 3.7, 1. ],\n",
       "       [5.8, 2.7, 3.9, 1.2],\n",
       "       [6. , 2.7, 5.1, 1.6],\n",
       "       [5.4, 3. , 4.5, 1.5],\n",
       "       [6. , 3.4, 4.5, 1.6],\n",
       "       [6.7, 3.1, 4.7, 1.5],\n",
       "       [6.3, 2.3, 4.4, 1.3],\n",
       "       [5.6, 3. , 4.1, 1.3],\n",
       "       [5.5, 2.5, 4. , 1.3],\n",
       "       [5.5, 2.6, 4.4, 1.2],\n",
       "       [6.1, 3. , 4.6, 1.4],\n",
       "       [5.8, 2.6, 4. , 1.2],\n",
       "       [5. , 2.3, 3.3, 1. ],\n",
       "       [5.6, 2.7, 4.2, 1.3],\n",
       "       [5.7, 3. , 4.2, 1.2],\n",
       "       [5.7, 2.9, 4.2, 1.3],\n",
       "       [6.2, 2.9, 4.3, 1.3],\n",
       "       [5.1, 2.5, 3. , 1.1],\n",
       "       [5.7, 2.8, 4.1, 1.3],\n",
       "       [6.3, 3.3, 6. , 2.5],\n",
       "       [5.8, 2.7, 5.1, 1.9],\n",
       "       [7.1, 3. , 5.9, 2.1],\n",
       "       [6.3, 2.9, 5.6, 1.8],\n",
       "       [6.5, 3. , 5.8, 2.2],\n",
       "       [7.6, 3. , 6.6, 2.1],\n",
       "       [4.9, 2.5, 4.5, 1.7],\n",
       "       [7.3, 2.9, 6.3, 1.8],\n",
       "       [6.7, 2.5, 5.8, 1.8],\n",
       "       [7.2, 3.6, 6.1, 2.5],\n",
       "       [6.5, 3.2, 5.1, 2. ],\n",
       "       [6.4, 2.7, 5.3, 1.9],\n",
       "       [6.8, 3. , 5.5, 2.1],\n",
       "       [5.7, 2.5, 5. , 2. ],\n",
       "       [5.8, 2.8, 5.1, 2.4],\n",
       "       [6.4, 3.2, 5.3, 2.3],\n",
       "       [6.5, 3. , 5.5, 1.8],\n",
       "       [7.7, 3.8, 6.7, 2.2],\n",
       "       [7.7, 2.6, 6.9, 2.3],\n",
       "       [6. , 2.2, 5. , 1.5],\n",
       "       [6.9, 3.2, 5.7, 2.3],\n",
       "       [5.6, 2.8, 4.9, 2. ],\n",
       "       [7.7, 2.8, 6.7, 2. ],\n",
       "       [6.3, 2.7, 4.9, 1.8],\n",
       "       [6.7, 3.3, 5.7, 2.1],\n",
       "       [7.2, 3.2, 6. , 1.8],\n",
       "       [6.2, 2.8, 4.8, 1.8],\n",
       "       [6.1, 3. , 4.9, 1.8],\n",
       "       [6.4, 2.8, 5.6, 2.1],\n",
       "       [7.2, 3. , 5.8, 1.6],\n",
       "       [7.4, 2.8, 6.1, 1.9],\n",
       "       [7.9, 3.8, 6.4, 2. ],\n",
       "       [6.4, 2.8, 5.6, 2.2],\n",
       "       [6.3, 2.8, 5.1, 1.5],\n",
       "       [6.1, 2.6, 5.6, 1.4],\n",
       "       [7.7, 3. , 6.1, 2.3],\n",
       "       [6.3, 3.4, 5.6, 2.4],\n",
       "       [6.4, 3.1, 5.5, 1.8],\n",
       "       [6. , 3. , 4.8, 1.8],\n",
       "       [6.9, 3.1, 5.4, 2.1],\n",
       "       [6.7, 3.1, 5.6, 2.4],\n",
       "       [6.9, 3.1, 5.1, 2.3],\n",
       "       [5.8, 2.7, 5.1, 1.9],\n",
       "       [6.8, 3.2, 5.9, 2.3],\n",
       "       [6.7, 3.3, 5.7, 2.5],\n",
       "       [6.7, 3. , 5.2, 2.3],\n",
       "       [6.3, 2.5, 5. , 1.9],\n",
       "       [6.5, 3. , 5.2, 2. ],\n",
       "       [6.2, 3.4, 5.4, 2.3],\n",
       "       [5.9, 3. , 5.1, 1.8]])"
      ]
     },
     "execution_count": 15,
     "metadata": {},
     "output_type": "execute_result"
    }
   ],
   "source": [
    "# import some data to play with\n",
    "irisData = datasets.load_iris()\n",
    "irisData.data"
   ]
  },
  {
   "cell_type": "code",
   "execution_count": 16,
   "metadata": {},
   "outputs": [],
   "source": [
    "\n",
    "# we only take the first two features for learning purpose\n",
    "X = irisData.data[:, :2]\n",
    "y = irisData.target"
   ]
  },
  {
   "cell_type": "code",
   "execution_count": 24,
   "metadata": {},
   "outputs": [],
   "source": [
    "n_neighbors = 15\n"
   ]
  },
  {
   "cell_type": "code",
   "execution_count": 25,
   "metadata": {},
   "outputs": [
    {
     "name": "stdout",
     "output_type": "stream",
     "text": [
      "KNN classifier accuracy - \"uniform\" - 0.807\n",
      "KNN classifier accuracy - \"distance\" - 0.927\n"
     ]
    },
    {
     "data": {
      "image/png": "[encoded data removed]",
      "text/plain": [
       "<Figure size 432x288 with 1 Axes>"
      ]
     },
     "metadata": {
      "needs_background": "light"
     },
     "output_type": "display_data"
    },
    {
     "data": {
      "image/png": "[encoded data removed]",
      "text/plain": [
       "<Figure size 432x288 with 1 Axes>"
      ]
     },
     "metadata": {
      "needs_background": "light"
     },
     "output_type": "display_data"
    }
   ],
   "source": [
    "step = .01  # step size in the mesh\n",
    "\n",
    "for weights in ['uniform', 'distance']:\n",
    "    # we create an instance of Neighbours Classifier and fit the data.\n",
    "    classifier = neighbors.KNeighborsClassifier(n_neighbors, weights=weights)\n",
    "    classifier.fit(X, y)\n",
    "    \n",
    "    print('KNN classifier accuracy - \"%s\" - %.3f' % (weights,classifier.score(X,y)))\n",
    "    \n",
    "    # Plot the decision boundary. For that, we will assign a color to each\n",
    "    # point in the mesh [x_min, x_max]x[y_min, y_max].\n",
    "    x_min, x_max = X[:, 0].min() - 1, X[:, 0].max() + 1\n",
    "    y_min, y_max = X[:, 1].min() - 1, X[:, 1].max() + 1\n",
    "    x_grid, y_grid = np.meshgrid(np.arange(x_min, x_max, step = step),\n",
    "                         np.arange(y_min, y_max, step = step))\n",
    "    Z = classifier.predict(np.c_[x_grid.ravel(), y_grid.ravel()])\n",
    "\n",
    "    # Put the result into a color plot\n",
    "    Z = Z.reshape(x_grid.shape)\n",
    "    plt.figure()\n",
    "    plt.pcolormesh(x_grid, y_grid, Z, cmap=ListedColormap(['lightblue', 'lightgreen', 'lightyellow']) )\n",
    "\n",
    "    # Plot also the training points\n",
    "    plt.scatter(X[:, 0], X[:, 1], c=y, \n",
    "                edgecolor='k', s=20)\n",
    "    plt.xlim(x_grid.min(), x_grid.max())\n",
    "    plt.ylim(y_grid.min(), y_grid.max())\n",
    "    plt.title(\"KNN 3-Class Classification (k = %d, weights = '%s')\"\n",
    "              % (n_neighbors, weights))\n",
    "\n",
    "\n",
    "plt.show()\n"
   ]
  },
  {
   "cell_type": "code",
   "execution_count": null,
   "metadata": {},
   "outputs": [],
   "source": [
    "#The below done using sci-kit learn and bulit function's"
   ]
  },
  {
   "cell_type": "code",
   "execution_count": 45,
   "metadata": {},
   "outputs": [],
   "source": [
    "import pandas as pd\n",
    "from sklearn.preprocessing import LabelEncoder\n",
    "from sklearn.model_selection import train_test_split \n",
    "from sklearn.neighbors import KNeighborsClassifier\n",
    "from sklearn import metrics"
   ]
  },
  {
   "cell_type": "code",
   "execution_count": 46,
   "metadata": {},
   "outputs": [
    {
     "data": {
      "text/html": [
       "<div>\n",
       "<style scoped>\n",
       "    .dataframe tbody tr th:only-of-type {\n",
       "        vertical-align: middle;\n",
       "    }\n",
       "\n",
       "    .dataframe tbody tr th {\n",
       "        vertical-align: top;\n",
       "    }\n",
       "\n",
       "    .dataframe thead th {\n",
       "        text-align: right;\n",
       "    }\n",
       "</style>\n",
       "<table border=\"1\" class=\"dataframe\">\n",
       "  <thead>\n",
       "    <tr style=\"text-align: right;\">\n",
       "      <th></th>\n",
       "      <th>0</th>\n",
       "      <th>1</th>\n",
       "      <th>2</th>\n",
       "      <th>3</th>\n",
       "      <th>4</th>\n",
       "      <th>5</th>\n",
       "    </tr>\n",
       "  </thead>\n",
       "  <tbody>\n",
       "    <tr>\n",
       "      <th>0</th>\n",
       "      <td>1</td>\n",
       "      <td>5.1</td>\n",
       "      <td>3.5</td>\n",
       "      <td>1.4</td>\n",
       "      <td>0.2</td>\n",
       "      <td>Iris-setosa</td>\n",
       "    </tr>\n",
       "    <tr>\n",
       "      <th>1</th>\n",
       "      <td>2</td>\n",
       "      <td>4.9</td>\n",
       "      <td>3.0</td>\n",
       "      <td>1.4</td>\n",
       "      <td>0.2</td>\n",
       "      <td>Iris-setosa</td>\n",
       "    </tr>\n",
       "    <tr>\n",
       "      <th>2</th>\n",
       "      <td>3</td>\n",
       "      <td>4.7</td>\n",
       "      <td>3.2</td>\n",
       "      <td>1.3</td>\n",
       "      <td>0.2</td>\n",
       "      <td>Iris-setosa</td>\n",
       "    </tr>\n",
       "    <tr>\n",
       "      <th>3</th>\n",
       "      <td>4</td>\n",
       "      <td>4.6</td>\n",
       "      <td>3.1</td>\n",
       "      <td>1.5</td>\n",
       "      <td>0.2</td>\n",
       "      <td>Iris-setosa</td>\n",
       "    </tr>\n",
       "    <tr>\n",
       "      <th>4</th>\n",
       "      <td>5</td>\n",
       "      <td>5.0</td>\n",
       "      <td>3.6</td>\n",
       "      <td>1.4</td>\n",
       "      <td>0.2</td>\n",
       "      <td>Iris-setosa</td>\n",
       "    </tr>\n",
       "    <tr>\n",
       "      <th>...</th>\n",
       "      <td>...</td>\n",
       "      <td>...</td>\n",
       "      <td>...</td>\n",
       "      <td>...</td>\n",
       "      <td>...</td>\n",
       "      <td>...</td>\n",
       "    </tr>\n",
       "    <tr>\n",
       "      <th>145</th>\n",
       "      <td>146</td>\n",
       "      <td>6.7</td>\n",
       "      <td>3.0</td>\n",
       "      <td>5.2</td>\n",
       "      <td>2.3</td>\n",
       "      <td>Iris-virginica</td>\n",
       "    </tr>\n",
       "    <tr>\n",
       "      <th>146</th>\n",
       "      <td>147</td>\n",
       "      <td>6.3</td>\n",
       "      <td>2.5</td>\n",
       "      <td>5.0</td>\n",
       "      <td>1.9</td>\n",
       "      <td>Iris-virginica</td>\n",
       "    </tr>\n",
       "    <tr>\n",
       "      <th>147</th>\n",
       "      <td>148</td>\n",
       "      <td>6.5</td>\n",
       "      <td>3.0</td>\n",
       "      <td>5.2</td>\n",
       "      <td>2.0</td>\n",
       "      <td>Iris-virginica</td>\n",
       "    </tr>\n",
       "    <tr>\n",
       "      <th>148</th>\n",
       "      <td>149</td>\n",
       "      <td>6.2</td>\n",
       "      <td>3.4</td>\n",
       "      <td>5.4</td>\n",
       "      <td>2.3</td>\n",
       "      <td>Iris-virginica</td>\n",
       "    </tr>\n",
       "    <tr>\n",
       "      <th>149</th>\n",
       "      <td>150</td>\n",
       "      <td>5.9</td>\n",
       "      <td>3.0</td>\n",
       "      <td>5.1</td>\n",
       "      <td>1.8</td>\n",
       "      <td>Iris-virginica</td>\n",
       "    </tr>\n",
       "  </tbody>\n",
       "</table>\n",
       "<p>150 rows × 6 columns</p>\n",
       "</div>"
      ],
      "text/plain": [
       "       0    1    2    3    4               5\n",
       "0      1  5.1  3.5  1.4  0.2     Iris-setosa\n",
       "1      2  4.9  3.0  1.4  0.2     Iris-setosa\n",
       "2      3  4.7  3.2  1.3  0.2     Iris-setosa\n",
       "3      4  4.6  3.1  1.5  0.2     Iris-setosa\n",
       "4      5  5.0  3.6  1.4  0.2     Iris-setosa\n",
       "..   ...  ...  ...  ...  ...             ...\n",
       "145  146  6.7  3.0  5.2  2.3  Iris-virginica\n",
       "146  147  6.3  2.5  5.0  1.9  Iris-virginica\n",
       "147  148  6.5  3.0  5.2  2.0  Iris-virginica\n",
       "148  149  6.2  3.4  5.4  2.3  Iris-virginica\n",
       "149  150  5.9  3.0  5.1  1.8  Iris-virginica\n",
       "\n",
       "[150 rows x 6 columns]"
      ]
     },
     "execution_count": 46,
     "metadata": {},
     "output_type": "execute_result"
    }
   ],
   "source": [
    "iris = pd.read_csv('Iris.csv', header = None)\n",
    "iris"
   ]
  },
  {
   "cell_type": "code",
   "execution_count": 47,
   "metadata": {},
   "outputs": [
    {
     "data": {
      "text/html": [
       "<div>\n",
       "<style scoped>\n",
       "    .dataframe tbody tr th:only-of-type {\n",
       "        vertical-align: middle;\n",
       "    }\n",
       "\n",
       "    .dataframe tbody tr th {\n",
       "        vertical-align: top;\n",
       "    }\n",
       "\n",
       "    .dataframe thead th {\n",
       "        text-align: right;\n",
       "    }\n",
       "</style>\n",
       "<table border=\"1\" class=\"dataframe\">\n",
       "  <thead>\n",
       "    <tr style=\"text-align: right;\">\n",
       "      <th></th>\n",
       "      <th>S.no</th>\n",
       "      <th>sepal_length</th>\n",
       "      <th>sepal_width</th>\n",
       "      <th>petal_length</th>\n",
       "      <th>petal_width</th>\n",
       "      <th>target_class</th>\n",
       "    </tr>\n",
       "  </thead>\n",
       "  <tbody>\n",
       "    <tr>\n",
       "      <th>0</th>\n",
       "      <td>1</td>\n",
       "      <td>5.1</td>\n",
       "      <td>3.5</td>\n",
       "      <td>1.4</td>\n",
       "      <td>0.2</td>\n",
       "      <td>Iris-setosa</td>\n",
       "    </tr>\n",
       "    <tr>\n",
       "      <th>1</th>\n",
       "      <td>2</td>\n",
       "      <td>4.9</td>\n",
       "      <td>3.0</td>\n",
       "      <td>1.4</td>\n",
       "      <td>0.2</td>\n",
       "      <td>Iris-setosa</td>\n",
       "    </tr>\n",
       "    <tr>\n",
       "      <th>2</th>\n",
       "      <td>3</td>\n",
       "      <td>4.7</td>\n",
       "      <td>3.2</td>\n",
       "      <td>1.3</td>\n",
       "      <td>0.2</td>\n",
       "      <td>Iris-setosa</td>\n",
       "    </tr>\n",
       "    <tr>\n",
       "      <th>3</th>\n",
       "      <td>4</td>\n",
       "      <td>4.6</td>\n",
       "      <td>3.1</td>\n",
       "      <td>1.5</td>\n",
       "      <td>0.2</td>\n",
       "      <td>Iris-setosa</td>\n",
       "    </tr>\n",
       "    <tr>\n",
       "      <th>4</th>\n",
       "      <td>5</td>\n",
       "      <td>5.0</td>\n",
       "      <td>3.6</td>\n",
       "      <td>1.4</td>\n",
       "      <td>0.2</td>\n",
       "      <td>Iris-setosa</td>\n",
       "    </tr>\n",
       "  </tbody>\n",
       "</table>\n",
       "</div>"
      ],
      "text/plain": [
       "   S.no  sepal_length  sepal_width  petal_length  petal_width target_class\n",
       "0     1           5.1          3.5           1.4          0.2  Iris-setosa\n",
       "1     2           4.9          3.0           1.4          0.2  Iris-setosa\n",
       "2     3           4.7          3.2           1.3          0.2  Iris-setosa\n",
       "3     4           4.6          3.1           1.5          0.2  Iris-setosa\n",
       "4     5           5.0          3.6           1.4          0.2  Iris-setosa"
      ]
     },
     "execution_count": 47,
     "metadata": {},
     "output_type": "execute_result"
    }
   ],
   "source": [
    "iris = pd.read_csv('Iris.csv', header = None)\n",
    "iris.columns = [\"S.no\",\"sepal_length\", \"sepal_width\", \n",
    "                \"petal_length\", \"petal_width\", \"target_class\"]\n",
    "iris.dropna(how ='all', inplace = True)\n",
    "iris.head()"
   ]
  },
  {
   "cell_type": "code",
   "execution_count": 48,
   "metadata": {},
   "outputs": [
    {
     "data": {
      "text/plain": [
       "0    Iris-setosa\n",
       "1    Iris-setosa\n",
       "2    Iris-setosa\n",
       "3    Iris-setosa\n",
       "4    Iris-setosa\n",
       "Name: target_class, dtype: object"
      ]
     },
     "execution_count": 48,
     "metadata": {},
     "output_type": "execute_result"
    }
   ],
   "source": [
    "iris.target_class.head()"
   ]
  },
  {
   "cell_type": "code",
   "execution_count": 49,
   "metadata": {},
   "outputs": [],
   "source": [
    "labelencoder = LabelEncoder()\n",
    "iris['target_class'] = labelencoder.fit_transform(iris['target_class'])"
   ]
  },
  {
   "cell_type": "code",
   "execution_count": 50,
   "metadata": {},
   "outputs": [
    {
     "data": {
      "text/plain": [
       "array([0, 1, 2])"
      ]
     },
     "execution_count": 50,
     "metadata": {},
     "output_type": "execute_result"
    }
   ],
   "source": [
    "iris.target_class.unique()"
   ]
  },
  {
   "cell_type": "code",
   "execution_count": 51,
   "metadata": {},
   "outputs": [],
   "source": [
    "data = iris.iloc[:, iris.columns != 'target_class']"
   ]
  },
  {
   "cell_type": "code",
   "execution_count": 52,
   "metadata": {},
   "outputs": [
    {
     "data": {
      "text/plain": [
       "<bound method NDFrame.head of      S.no  sepal_length  sepal_width  petal_length  petal_width\n",
       "0       1           5.1          3.5           1.4          0.2\n",
       "1       2           4.9          3.0           1.4          0.2\n",
       "2       3           4.7          3.2           1.3          0.2\n",
       "3       4           4.6          3.1           1.5          0.2\n",
       "4       5           5.0          3.6           1.4          0.2\n",
       "..    ...           ...          ...           ...          ...\n",
       "145   146           6.7          3.0           5.2          2.3\n",
       "146   147           6.3          2.5           5.0          1.9\n",
       "147   148           6.5          3.0           5.2          2.0\n",
       "148   149           6.2          3.4           5.4          2.3\n",
       "149   150           5.9          3.0           5.1          1.8\n",
       "\n",
       "[150 rows x 5 columns]>"
      ]
     },
     "execution_count": 52,
     "metadata": {},
     "output_type": "execute_result"
    }
   ],
   "source": [
    "data.head"
   ]
  },
  {
   "cell_type": "code",
   "execution_count": 53,
   "metadata": {},
   "outputs": [],
   "source": [
    "target  = iris.iloc[:, iris.columns == 'target_class']"
   ]
  },
  {
   "cell_type": "code",
   "execution_count": 54,
   "metadata": {},
   "outputs": [
    {
     "data": {
      "text/html": [
       "<div>\n",
       "<style scoped>\n",
       "    .dataframe tbody tr th:only-of-type {\n",
       "        vertical-align: middle;\n",
       "    }\n",
       "\n",
       "    .dataframe tbody tr th {\n",
       "        vertical-align: top;\n",
       "    }\n",
       "\n",
       "    .dataframe thead th {\n",
       "        text-align: right;\n",
       "    }\n",
       "</style>\n",
       "<table border=\"1\" class=\"dataframe\">\n",
       "  <thead>\n",
       "    <tr style=\"text-align: right;\">\n",
       "      <th></th>\n",
       "      <th>target_class</th>\n",
       "    </tr>\n",
       "  </thead>\n",
       "  <tbody>\n",
       "    <tr>\n",
       "      <th>0</th>\n",
       "      <td>0</td>\n",
       "    </tr>\n",
       "    <tr>\n",
       "      <th>1</th>\n",
       "      <td>0</td>\n",
       "    </tr>\n",
       "    <tr>\n",
       "      <th>2</th>\n",
       "      <td>0</td>\n",
       "    </tr>\n",
       "    <tr>\n",
       "      <th>3</th>\n",
       "      <td>0</td>\n",
       "    </tr>\n",
       "    <tr>\n",
       "      <th>4</th>\n",
       "      <td>0</td>\n",
       "    </tr>\n",
       "  </tbody>\n",
       "</table>\n",
       "</div>"
      ],
      "text/plain": [
       "   target_class\n",
       "0             0\n",
       "1             0\n",
       "2             0\n",
       "3             0\n",
       "4             0"
      ]
     },
     "execution_count": 54,
     "metadata": {},
     "output_type": "execute_result"
    }
   ],
   "source": [
    "target.head()"
   ]
  },
  {
   "cell_type": "code",
   "execution_count": 55,
   "metadata": {},
   "outputs": [],
   "source": [
    "X_train, X_test, y_train, y_test = train_test_split(data, target, test_size = 0.3, random_state = 524)"
   ]
  },
  {
   "cell_type": "code",
   "execution_count": 56,
   "metadata": {},
   "outputs": [
    {
     "name": "stdout",
     "output_type": "stream",
     "text": [
      "(105, 5)\n",
      "(45, 5)\n",
      "(105, 1)\n",
      "(45, 1)\n"
     ]
    }
   ],
   "source": [
    "print(X_train.shape)\n",
    "print(X_test.shape)\n",
    "print(y_train.shape)\n",
    "print(y_test.shape)"
   ]
  },
  {
   "cell_type": "code",
   "execution_count": 57,
   "metadata": {},
   "outputs": [
    {
     "name": "stderr",
     "output_type": "stream",
     "text": [
      "C:\\ProgramData\\Anaconda3\\lib\\site-packages\\ipykernel_launcher.py:6: DataConversionWarning: A column-vector y was passed when a 1d array was expected. Please change the shape of y to (n_samples, ), for example using ravel().\n",
      "  \n",
      "C:\\ProgramData\\Anaconda3\\lib\\site-packages\\ipykernel_launcher.py:6: DataConversionWarning: A column-vector y was passed when a 1d array was expected. Please change the shape of y to (n_samples, ), for example using ravel().\n",
      "  \n",
      "C:\\ProgramData\\Anaconda3\\lib\\site-packages\\ipykernel_launcher.py:6: DataConversionWarning: A column-vector y was passed when a 1d array was expected. Please change the shape of y to (n_samples, ), for example using ravel().\n",
      "  \n",
      "C:\\ProgramData\\Anaconda3\\lib\\site-packages\\ipykernel_launcher.py:6: DataConversionWarning: A column-vector y was passed when a 1d array was expected. Please change the shape of y to (n_samples, ), for example using ravel().\n",
      "  \n",
      "C:\\ProgramData\\Anaconda3\\lib\\site-packages\\ipykernel_launcher.py:6: DataConversionWarning: A column-vector y was passed when a 1d array was expected. Please change the shape of y to (n_samples, ), for example using ravel().\n",
      "  \n",
      "C:\\ProgramData\\Anaconda3\\lib\\site-packages\\ipykernel_launcher.py:6: DataConversionWarning: A column-vector y was passed when a 1d array was expected. Please change the shape of y to (n_samples, ), for example using ravel().\n",
      "  \n",
      "C:\\ProgramData\\Anaconda3\\lib\\site-packages\\ipykernel_launcher.py:6: DataConversionWarning: A column-vector y was passed when a 1d array was expected. Please change the shape of y to (n_samples, ), for example using ravel().\n",
      "  \n",
      "C:\\ProgramData\\Anaconda3\\lib\\site-packages\\ipykernel_launcher.py:6: DataConversionWarning: A column-vector y was passed when a 1d array was expected. Please change the shape of y to (n_samples, ), for example using ravel().\n",
      "  \n",
      "C:\\ProgramData\\Anaconda3\\lib\\site-packages\\ipykernel_launcher.py:6: DataConversionWarning: A column-vector y was passed when a 1d array was expected. Please change the shape of y to (n_samples, ), for example using ravel().\n",
      "  \n",
      "C:\\ProgramData\\Anaconda3\\lib\\site-packages\\ipykernel_launcher.py:6: DataConversionWarning: A column-vector y was passed when a 1d array was expected. Please change the shape of y to (n_samples, ), for example using ravel().\n",
      "  \n",
      "C:\\ProgramData\\Anaconda3\\lib\\site-packages\\ipykernel_launcher.py:6: DataConversionWarning: A column-vector y was passed when a 1d array was expected. Please change the shape of y to (n_samples, ), for example using ravel().\n",
      "  \n",
      "C:\\ProgramData\\Anaconda3\\lib\\site-packages\\ipykernel_launcher.py:6: DataConversionWarning: A column-vector y was passed when a 1d array was expected. Please change the shape of y to (n_samples, ), for example using ravel().\n",
      "  \n",
      "C:\\ProgramData\\Anaconda3\\lib\\site-packages\\ipykernel_launcher.py:6: DataConversionWarning: A column-vector y was passed when a 1d array was expected. Please change the shape of y to (n_samples, ), for example using ravel().\n",
      "  \n",
      "C:\\ProgramData\\Anaconda3\\lib\\site-packages\\ipykernel_launcher.py:6: DataConversionWarning: A column-vector y was passed when a 1d array was expected. Please change the shape of y to (n_samples, ), for example using ravel().\n",
      "  \n",
      "C:\\ProgramData\\Anaconda3\\lib\\site-packages\\ipykernel_launcher.py:6: DataConversionWarning: A column-vector y was passed when a 1d array was expected. Please change the shape of y to (n_samples, ), for example using ravel().\n",
      "  \n",
      "C:\\ProgramData\\Anaconda3\\lib\\site-packages\\ipykernel_launcher.py:6: DataConversionWarning: A column-vector y was passed when a 1d array was expected. Please change the shape of y to (n_samples, ), for example using ravel().\n",
      "  \n",
      "C:\\ProgramData\\Anaconda3\\lib\\site-packages\\ipykernel_launcher.py:6: DataConversionWarning: A column-vector y was passed when a 1d array was expected. Please change the shape of y to (n_samples, ), for example using ravel().\n",
      "  \n",
      "C:\\ProgramData\\Anaconda3\\lib\\site-packages\\ipykernel_launcher.py:6: DataConversionWarning: A column-vector y was passed when a 1d array was expected. Please change the shape of y to (n_samples, ), for example using ravel().\n",
      "  \n",
      "C:\\ProgramData\\Anaconda3\\lib\\site-packages\\ipykernel_launcher.py:6: DataConversionWarning: A column-vector y was passed when a 1d array was expected. Please change the shape of y to (n_samples, ), for example using ravel().\n",
      "  \n",
      "C:\\ProgramData\\Anaconda3\\lib\\site-packages\\ipykernel_launcher.py:6: DataConversionWarning: A column-vector y was passed when a 1d array was expected. Please change the shape of y to (n_samples, ), for example using ravel().\n",
      "  \n",
      "C:\\ProgramData\\Anaconda3\\lib\\site-packages\\ipykernel_launcher.py:6: DataConversionWarning: A column-vector y was passed when a 1d array was expected. Please change the shape of y to (n_samples, ), for example using ravel().\n",
      "  \n",
      "C:\\ProgramData\\Anaconda3\\lib\\site-packages\\ipykernel_launcher.py:6: DataConversionWarning: A column-vector y was passed when a 1d array was expected. Please change the shape of y to (n_samples, ), for example using ravel().\n",
      "  \n",
      "C:\\ProgramData\\Anaconda3\\lib\\site-packages\\ipykernel_launcher.py:6: DataConversionWarning: A column-vector y was passed when a 1d array was expected. Please change the shape of y to (n_samples, ), for example using ravel().\n",
      "  \n",
      "C:\\ProgramData\\Anaconda3\\lib\\site-packages\\ipykernel_launcher.py:6: DataConversionWarning: A column-vector y was passed when a 1d array was expected. Please change the shape of y to (n_samples, ), for example using ravel().\n",
      "  \n",
      "C:\\ProgramData\\Anaconda3\\lib\\site-packages\\ipykernel_launcher.py:6: DataConversionWarning: A column-vector y was passed when a 1d array was expected. Please change the shape of y to (n_samples, ), for example using ravel().\n",
      "  \n"
     ]
    }
   ],
   "source": [
    "k_range = range(1,26)\n",
    "scores = {}\n",
    "score_list = []\n",
    "for k in k_range:\n",
    "    knn = KNeighborsClassifier(n_neighbors=k)\n",
    "    knn.fit(X_train, y_train)\n",
    "    y_pred = knn.predict(X_test)\n",
    "    scores[k] = metrics.accuracy_score(y_test, y_pred)\n",
    "    score_list.append(metrics.accuracy_score(y_test, y_pred))"
   ]
  },
  {
   "cell_type": "code",
   "execution_count": 58,
   "metadata": {},
   "outputs": [
    {
     "data": {
      "text/plain": [
       "[0.9555555555555556,\n",
       " 0.9555555555555556,\n",
       " 0.9555555555555556,\n",
       " 0.9555555555555556,\n",
       " 0.9555555555555556,\n",
       " 0.9555555555555556,\n",
       " 0.9555555555555556,\n",
       " 0.9555555555555556,\n",
       " 0.9555555555555556,\n",
       " 0.9555555555555556,\n",
       " 1.0,\n",
       " 0.9777777777777777,\n",
       " 0.9777777777777777,\n",
       " 0.9555555555555556,\n",
       " 0.9555555555555556,\n",
       " 0.9555555555555556,\n",
       " 0.9777777777777777,\n",
       " 0.9555555555555556,\n",
       " 0.9777777777777777,\n",
       " 0.9555555555555556,\n",
       " 0.9555555555555556,\n",
       " 0.9555555555555556,\n",
       " 0.9555555555555556,\n",
       " 0.9333333333333333,\n",
       " 0.9111111111111111]"
      ]
     },
     "execution_count": 58,
     "metadata": {},
     "output_type": "execute_result"
    }
   ],
   "source": [
    "score_list"
   ]
  },
  {
   "cell_type": "code",
   "execution_count": 59,
   "metadata": {},
   "outputs": [
    {
     "data": {
      "text/plain": [
       "{1: 0.9555555555555556,\n",
       " 2: 0.9555555555555556,\n",
       " 3: 0.9555555555555556,\n",
       " 4: 0.9555555555555556,\n",
       " 5: 0.9555555555555556,\n",
       " 6: 0.9555555555555556,\n",
       " 7: 0.9555555555555556,\n",
       " 8: 0.9555555555555556,\n",
       " 9: 0.9555555555555556,\n",
       " 10: 0.9555555555555556,\n",
       " 11: 1.0,\n",
       " 12: 0.9777777777777777,\n",
       " 13: 0.9777777777777777,\n",
       " 14: 0.9555555555555556,\n",
       " 15: 0.9555555555555556,\n",
       " 16: 0.9555555555555556,\n",
       " 17: 0.9777777777777777,\n",
       " 18: 0.9555555555555556,\n",
       " 19: 0.9777777777777777,\n",
       " 20: 0.9555555555555556,\n",
       " 21: 0.9555555555555556,\n",
       " 22: 0.9555555555555556,\n",
       " 23: 0.9555555555555556,\n",
       " 24: 0.9333333333333333,\n",
       " 25: 0.9111111111111111}"
      ]
     },
     "execution_count": 59,
     "metadata": {},
     "output_type": "execute_result"
    }
   ],
   "source": [
    "scores\n"
   ]
  },
  {
   "cell_type": "code",
   "execution_count": 60,
   "metadata": {},
   "outputs": [
    {
     "data": {
      "text/plain": [
       "Text(0, 0.5, 'Testing accuracy')"
      ]
     },
     "execution_count": 60,
     "metadata": {},
     "output_type": "execute_result"
    },
    {
     "data": {
      "image/png": "[encoded data removed]",
      "text/plain": [
       "<Figure size 432x288 with 1 Axes>"
      ]
     },
     "metadata": {
      "needs_background": "light"
     },
     "output_type": "display_data"
    }
   ],
   "source": [
    "plt.plot(k_range, score_list)\n",
    "plt.xlabel('Value for k for KNN')\n",
    "plt.ylabel('Testing accuracy')"
   ]
  },
  {
   "cell_type": "code",
   "execution_count": null,
   "metadata": {},
   "outputs": [],
   "source": []
  },
  {
   "cell_type": "code",
   "execution_count": null,
   "metadata": {},
   "outputs": [],
   "source": []
  },
  {
   "cell_type": "code",
   "execution_count": null,
   "metadata": {},
   "outputs": [],
   "source": []
  },
  {
   "cell_type": "code",
   "execution_count": null,
   "metadata": {},
   "outputs": [],
   "source": []
  },
  {
   "cell_type": "code",
   "execution_count": null,
   "metadata": {},
   "outputs": [],
   "source": []
  }
 ],
 "metadata": {
  "kernelspec": {
   "display_name": "Python 3",
   "language": "python",
   "name": "python3"
  },
  "language_info": {
   "codemirror_mode": {
    "name": "ipython",
    "version": 3
   },
   "file_extension": ".py",
   "mimetype": "text/x-python",
   "name": "python",
   "nbconvert_exporter": "python",
   "pygments_lexer": "ipython3",
   "version": "3.7.6"
  }
 },
 "nbformat": 4,
 "nbformat_minor": 4
}
